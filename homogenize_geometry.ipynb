{
 "cells": [
  {
   "cell_type": "code",
   "execution_count": 1,
   "metadata": {},
   "outputs": [],
   "source": [
    "from fenics import *\n",
    "import numpy as np\n",
    "import PeriodicBoundary as pb\n",
    "import Homogenization as hm\n",
    "\n",
    "#from GeometryBase import GeometryBase \n",
    "#gm = 'box_in__box_2d'\n",
    "#gm = 'diagonal_box_in_box_2d'\n",
    "#gm = 'straight_channel_2d'\n",
    "gm = 'diagonal_channels_2d'\n",
    "#gm = 'perturbed_channel_2d'\n",
    "#gm = 'vertical_filaments_2d'\n",
    "#gm = 'circle_in_a_box_2d'\n",
    "#gm = 'four_boxes_in_a_box_2d'\n",
    "\n",
    "#gm = 'extended_box_3d'\n",
    "#gm = 'crossing_filaments_3d'\n",
    "#gm = 'box_in_a_box_3d'\n",
    "\n",
    "#gm = 'crossing_channels_2d'\n",
    "\n",
    "if gm == 'box_in__box_2d':\n",
    "    import GeometryBoxInABox2D as Geometry\n",
    "elif gm == 'four_boxes_in_a_box_2d':\n",
    "    import GeometryFourBoxesInABox2D as Geometry\n",
    "elif gm == 'straight_channel_2d':\n",
    "    import GeometryStraightChannel2D as Geometry\n",
    "elif gm == 'perturbed_channel_2d':\n",
    "    import GeometryPerturbedChannel2D as Geometry\n",
    "elif gm == 'vertical_filaments_2d':\n",
    "    import GeometryVerticalFilaments2D as Geometry\n",
    "elif gm == 'diagonal_channels_2d':\n",
    "    import GeometryDiagonalChannels2D as Geometry\n",
    "elif gm == 'crossing_channels_2d':\n",
    "    import GeometryCrossingChannels2D as Geometry\n",
    "elif gm == 'diagonal_box_in_box_2d':\n",
    "    import GeometryDiagonalBoxInABox2D as Geometry\n",
    "elif gm == 'circle_in_a_box_2d':\n",
    "    import GeometryCircleInABox2D as Geometry\n",
    "\n",
    "# 3D meshes\n",
    "elif gm == 'extended_box_3d':\n",
    "    import GeometryExtendedBox3D as Geometry\n",
    "elif gm == 'crossing_filaments_3d':\n",
    "    import GeometryCrossingFilaments3D as Geometry\n",
    "elif gm == 'box_in_a_box_3d':\n",
    "    import GeometryBoxInABox3D as Geometry\n"
   ]
  },
  {
   "cell_type": "code",
   "execution_count": 2,
   "metadata": {},
   "outputs": [
    {
     "data": {
      "text/plain": [
       "<module 'Homogenization' from '/home/eberhardt/Spine/Git_code/homogenization/code/Homogenization.py'>"
      ]
     },
     "execution_count": 2,
     "metadata": {},
     "output_type": "execute_result"
    }
   ],
   "source": [
    "import importlib\n",
    "importlib.reload(Geometry)\n",
    "importlib.reload(hm)"
   ]
  },
  {
   "cell_type": "code",
   "execution_count": 34,
   "metadata": {},
   "outputs": [],
   "source": [
    "\n",
    "geom = Geometry.Geometry(2., 1., resolution=36, ds=36., sc=18.)"
   ]
  },
  {
   "cell_type": "code",
   "execution_count": 35,
   "metadata": {},
   "outputs": [
    {
     "data": {
      "image/png": "[encoded data removed]",
      "text/plain": [
       "<Figure size 432x288 with 1 Axes>"
      ]
     },
     "metadata": {
      "needs_background": "light"
     },
     "output_type": "display_data"
    }
   ],
   "source": [
    "if geom.geometric_dimension() == 2:\n",
    "    materials = geom.get_materials()\n",
    "    plot(materials)\n",
    "else:\n",
    "    pass"
   ]
  },
  {
   "cell_type": "code",
   "execution_count": 36,
   "metadata": {},
   "outputs": [],
   "source": [
    "geom.save_materials()\n",
    "geom.save_boundaries()\n",
    "geom.save_permittivity()\n",
    "# geom.test_grid_periodicity('x_1')"
   ]
  },
  {
   "cell_type": "code",
   "execution_count": 37,
   "metadata": {},
   "outputs": [],
   "source": [
    "mesh = geom.get_mesh()\n",
    "liquid_mesh = geom.get_liquid_mesh()"
   ]
  },
  {
   "cell_type": "code",
   "execution_count": 38,
   "metadata": {},
   "outputs": [],
   "source": [
    "xi_phi = hm.reference_cell_solver_potential(geom)\n",
    "\n",
    "folder = geom.get_folder()\n",
    "\n",
    "# Save solution in VTK format\n",
    "file = File(folder + \"xi_phi_1.pvd\")\n",
    "file << xi_phi[0]\n",
    "file = File(folder + \"xi_phi_2.pvd\")\n",
    "file << xi_phi[1]\n",
    "if mesh.geometric_dimension() == 3:\n",
    "    file = File(folder + \"xi_phi_3.pvd\")\n",
    "    file << xi_phi[2]"
   ]
  },
  {
   "cell_type": "code",
   "execution_count": 39,
   "metadata": {},
   "outputs": [],
   "source": [
    "xi_c = hm.reference_cell_solver_diffusion(geom)\n",
    "\n",
    "folder = geom.get_folder()\n",
    "\n",
    "# Save solution in VTK format\n",
    "file = File(folder + \"xi_c_1.pvd\")\n",
    "file << xi_c[0]\n",
    "file = File(folder + \"xi_c_2.pvd\")\n",
    "file << xi_c[1]\n",
    "if mesh.geometric_dimension() == 3:\n",
    "    file = File(folder + \"xi_c_3.pvd\")\n",
    "    file << xi_c[2]"
   ]
  },
  {
   "cell_type": "code",
   "execution_count": 40,
   "metadata": {
    "scrolled": true
   },
   "outputs": [
    {
     "name": "stdout",
     "output_type": "stream",
     "text": [
      "Computing tensor component i,j =  0 0\n",
      "Computing tensor component i,j =  0 1\n",
      "Computing tensor component i,j =  1 0\n",
      "Computing tensor component i,j =  1 1\n",
      "[[0.52777778 0.47222222]\n",
      " [0.47222222 0.52777778]]\n"
     ]
    }
   ],
   "source": [
    "D = 1.\n",
    "pourosity = 1.\n",
    "\n",
    "diffusion_tensor = D * pourosity * hm.diffusion_tensor(xi_c, geom)\n",
    "print(diffusion_tensor)"
   ]
  },
  {
   "cell_type": "code",
   "execution_count": 15,
   "metadata": {},
   "outputs": [
    {
     "name": "stdout",
     "output_type": "stream",
     "text": [
      "Computing tensor component i,j =  0 0\n",
      "Computing tensor component i,j =  0 1\n",
      "Computing tensor component i,j =  1 0\n",
      "Computing tensor component i,j =  1 1\n",
      "[[1.75374813e+00 1.01550011e-04]\n",
      " [1.01550011e-04 1.75374813e+00]]\n"
     ]
    }
   ],
   "source": [
    "permittivity_tensor = hm.permittivity_tensor(xi_phi, geom)\n",
    "print(permittivity_tensor)"
   ]
  },
  {
   "cell_type": "code",
   "execution_count": 16,
   "metadata": {},
   "outputs": [
    {
     "data": {
      "text/plain": [
       "<matplotlib.tri.tricontour.TriContourSet at 0x7fea5354b278>"
      ]
     },
     "execution_count": 16,
     "metadata": {},
     "output_type": "execute_result"
    },
    {
     "data": {
      "image/png": "[encoded data removed]",
      "text/plain": [
       "<Figure size 432x288 with 1 Axes>"
      ]
     },
     "metadata": {
      "needs_background": "light"
     },
     "output_type": "display_data"
    }
   ],
   "source": [
    "plot(xi_phi[0])"
   ]
  },
  {
   "cell_type": "code",
   "execution_count": 17,
   "metadata": {},
   "outputs": [
    {
     "data": {
      "text/plain": [
       "<matplotlib.tri.tricontour.TriContourSet at 0x7fea5347e780>"
      ]
     },
     "execution_count": 17,
     "metadata": {},
     "output_type": "execute_result"
    },
    {
     "data": {
      "image/png": "[encoded data removed]",
      "text/plain": [
       "<Figure size 432x288 with 1 Axes>"
      ]
     },
     "metadata": {
      "needs_background": "light"
     },
     "output_type": "display_data"
    }
   ],
   "source": [
    "plot(xi_phi[1])"
   ]
  },
  {
   "cell_type": "code",
   "execution_count": 18,
   "metadata": {},
   "outputs": [
    {
     "data": {
      "text/plain": [
       "<matplotlib.tri.tricontour.TriContourSet at 0x7fea533a37b8>"
      ]
     },
     "execution_count": 18,
     "metadata": {},
     "output_type": "execute_result"
    },
    {
     "data": {
      "image/png": "[encoded data removed]",
      "text/plain": [
       "<Figure size 432x288 with 1 Axes>"
      ]
     },
     "metadata": {
      "needs_background": "light"
     },
     "output_type": "display_data"
    }
   ],
   "source": [
    "plot(xi_c[0])"
   ]
  },
  {
   "cell_type": "code",
   "execution_count": 19,
   "metadata": {},
   "outputs": [
    {
     "data": {
      "text/plain": [
       "<matplotlib.tri.tricontour.TriContourSet at 0x7fea533481d0>"
      ]
     },
     "execution_count": 19,
     "metadata": {},
     "output_type": "execute_result"
    },
    {
     "data": {
      "image/png": "[encoded data removed]",
      "text/plain": [
       "<Figure size 432x288 with 1 Axes>"
      ]
     },
     "metadata": {
      "needs_background": "light"
     },
     "output_type": "display_data"
    }
   ],
   "source": [
    "plot(xi_c[1])"
   ]
  },
  {
   "cell_type": "code",
   "execution_count": 20,
   "metadata": {},
   "outputs": [
    {
     "name": "stdout",
     "output_type": "stream",
     "text": [
      "./../box_in_a_box_2D/\n"
     ]
    }
   ],
   "source": [
    "print(folder)"
   ]
  },
  {
   "cell_type": "code",
   "execution_count": 21,
   "metadata": {},
   "outputs": [
    {
     "name": "stdout",
     "output_type": "stream",
     "text": [
      "2080\n"
     ]
    }
   ],
   "source": [
    "print(liquid_mesh.num_cells())"
   ]
  },
  {
   "cell_type": "code",
   "execution_count": 22,
   "metadata": {},
   "outputs": [
    {
     "name": "stdout",
     "output_type": "stream",
     "text": [
      "260.0\n"
     ]
    }
   ],
   "source": [
    "print(geom.get_liquid_mesh_volume())"
   ]
  },
  {
   "cell_type": "code",
   "execution_count": 23,
   "metadata": {},
   "outputs": [
    {
     "name": "stdout",
     "output_type": "stream",
     "text": [
      "324.0\n"
     ]
    }
   ],
   "source": [
    "print(geom.get_mesh_volume())"
   ]
  },
  {
   "cell_type": "code",
   "execution_count": 24,
   "metadata": {},
   "outputs": [
    {
     "name": "stdout",
     "output_type": "stream",
     "text": [
      "solid mesh voluem:  64.0\n"
     ]
    }
   ],
   "source": [
    "print('solid mesh voluem: ',geom.get_mesh_volume()-geom.get_liquid_mesh_volume())"
   ]
  },
  {
   "cell_type": "code",
   "execution_count": 25,
   "metadata": {},
   "outputs": [
    {
     "name": "stdout",
     "output_type": "stream",
     "text": [
      "pourosity:  0.8024691358024691\n"
     ]
    }
   ],
   "source": [
    "pourosity = geom.get_liquid_mesh_volume()/geom.get_mesh_volume()\n",
    "print('pourosity: ',geom.get_liquid_mesh_volume()/geom.get_mesh_volume())"
   ]
  },
  {
   "cell_type": "code",
   "execution_count": 29,
   "metadata": {},
   "outputs": [],
   "source": [
    "# save data 'geometry' 'eps_l' 'eps_s' 'res_x' 'res_y' 'res_z' 'pourosity' 'domain_size' 'solid_size' 'date'\n",
    "\n",
    "import datetime\n",
    "now = datetime.datetime.now()\n",
    "date = now.isoformat()\n",
    "\n",
    "pourosity = geom.get_liquid_mesh_volume()/geom.get_mesh_volume()\n",
    "\n",
    "results_list = [gm, geom.eps_l, geom.eps_s, geom.res, geom.res_y, geom.res_z, pourosity, geom.domain_size, geom.solid_scale, date]\n",
    "\n",
    "import pickle\n",
    "all_results = pickle.load(file=open('./../results/homogenization_results.pcl', 'rb'))\n",
    "all_results.append(results_list)\n",
    "pickle.dump(all_results, file=open('./../results/homogenization_results.pcl', 'wb')) "
   ]
  },
  {
   "cell_type": "code",
   "execution_count": 89,
   "metadata": {},
   "outputs": [
    {
     "name": "stdout",
     "output_type": "stream",
     "text": [
      "Computing tensor component i,j =  0 0\n",
      "Computing tensor component i,j =  0 1\n",
      "Computing tensor component i,j =  1 0\n",
      "Computing tensor component i,j =  1 1\n",
      "Computing tensor component i,j =  0 0\n",
      "Computing tensor component i,j =  0 1\n",
      "Computing tensor component i,j =  1 0\n",
      "Computing tensor component i,j =  1 1\n",
      "Computing tensor component i,j =  0 0\n",
      "Computing tensor component i,j =  0 1\n",
      "Computing tensor component i,j =  1 0\n",
      "Computing tensor component i,j =  1 1\n",
      "Computing tensor component i,j =  0 0\n",
      "Computing tensor component i,j =  0 1\n",
      "Computing tensor component i,j =  1 0\n",
      "Computing tensor component i,j =  1 1\n",
      "Computing tensor component i,j =  0 0\n",
      "Computing tensor component i,j =  0 1\n",
      "Computing tensor component i,j =  1 0\n",
      "Computing tensor component i,j =  1 1\n",
      "Computing tensor component i,j =  0 0\n",
      "Computing tensor component i,j =  0 1\n",
      "Computing tensor component i,j =  1 0\n",
      "Computing tensor component i,j =  1 1\n",
      "Computing tensor component i,j =  0 0\n",
      "Computing tensor component i,j =  0 1\n",
      "Computing tensor component i,j =  1 0\n",
      "Computing tensor component i,j =  1 1\n",
      "Computing tensor component i,j =  0 0\n",
      "Computing tensor component i,j =  0 1\n",
      "Computing tensor component i,j =  1 0\n",
      "Computing tensor component i,j =  1 1\n",
      "Computing tensor component i,j =  0 0\n",
      "Computing tensor component i,j =  0 1\n",
      "Computing tensor component i,j =  1 0\n",
      "Computing tensor component i,j =  1 1\n",
      "Computing tensor component i,j =  0 0\n",
      "Computing tensor component i,j =  0 1\n",
      "Computing tensor component i,j =  1 0\n",
      "Computing tensor component i,j =  1 1\n",
      "Computing tensor component i,j =  0 0\n",
      "Computing tensor component i,j =  0 1\n",
      "Computing tensor component i,j =  1 0\n",
      "Computing tensor component i,j =  1 1\n",
      "Computing tensor component i,j =  0 0\n",
      "Computing tensor component i,j =  0 1\n",
      "Computing tensor component i,j =  1 0\n",
      "Computing tensor component i,j =  1 1\n",
      "Computing tensor component i,j =  0 0\n",
      "Computing tensor component i,j =  0 1\n",
      "Computing tensor component i,j =  1 0\n",
      "Computing tensor component i,j =  1 1\n",
      "Computing tensor component i,j =  0 0\n",
      "Computing tensor component i,j =  0 1\n",
      "Computing tensor component i,j =  1 0\n",
      "Computing tensor component i,j =  1 1\n",
      "Computing tensor component i,j =  0 0\n",
      "Computing tensor component i,j =  0 1\n",
      "Computing tensor component i,j =  1 0\n",
      "Computing tensor component i,j =  1 1\n",
      "Computing tensor component i,j =  0 0\n",
      "Computing tensor component i,j =  0 1\n",
      "Computing tensor component i,j =  1 0\n",
      "Computing tensor component i,j =  1 1\n",
      "Computing tensor component i,j =  0 0\n",
      "Computing tensor component i,j =  0 1\n",
      "Computing tensor component i,j =  1 0\n",
      "Computing tensor component i,j =  1 1\n",
      "Computing tensor component i,j =  0 0\n",
      "Computing tensor component i,j =  0 1\n",
      "Computing tensor component i,j =  1 0\n",
      "Computing tensor component i,j =  1 1\n",
      "Computing tensor component i,j =  0 0\n",
      "Computing tensor component i,j =  0 1\n",
      "Computing tensor component i,j =  1 0\n",
      "Computing tensor component i,j =  1 1\n",
      "Computing tensor component i,j =  0 0\n",
      "Computing tensor component i,j =  0 1\n",
      "Computing tensor component i,j =  1 0\n",
      "Computing tensor component i,j =  1 1\n"
     ]
    }
   ],
   "source": [
    "def tensor_vs_resolution(res, eps_l, eps_s, tensors):\n",
    "    \n",
    "    geom = Geometry.Geometry(eps_l, eps_s, res)\n",
    "    \n",
    "    xi_phi = hm.reference_cell_solver_potential(geom)\n",
    "    \n",
    "    xi_c = hm.reference_cell_solver_diffusion(geom)\n",
    "    \n",
    "    diffusion_tensor = hm.diffusion_tensor(xi_c, geom)\n",
    "    \n",
    "    permittivity_tensor = hm.permittivity_tensor(xi_phi, geom)\n",
    "    \n",
    "    tmp_dict = {'D': diffusion_tensor, 'P': permittivity_tensor}\n",
    "    tensors.update({str(res): tmp_dict})\n",
    "    \n",
    "tensors = {}\n",
    "res_list = [20 * i for i in range(1,11)]\n",
    "eps_l = 2.\n",
    "eps_s = 1.\n",
    "\n",
    "for res in res_list:\n",
    "    tensor_vs_resolution(res, eps_l, eps_s, tensors)\n"
   ]
  },
  {
   "cell_type": "code",
   "execution_count": 90,
   "metadata": {},
   "outputs": [
    {
     "data": {
      "text/plain": [
       "{'20': {'D': array([[ 0.85623328, -0.00622336],\n",
       "         [-0.00622336,  0.85623328]]),\n",
       "  'P': array([[ 1.80412491e+00, -7.63703855e-04],\n",
       "         [-7.63703855e-04,  1.80412491e+00]])},\n",
       " '40': {'D': array([[ 0.84731766, -0.00355304],\n",
       "         [-0.00355304,  0.84731766]]),\n",
       "  'P': array([[ 1.77990100e+00, -4.78656887e-04],\n",
       "         [-4.78656887e-04,  1.77990100e+00]])},\n",
       " '60': {'D': array([[ 0.84176845, -0.00248335],\n",
       "         [-0.00248335,  0.84176845]]),\n",
       "  'P': array([[ 1.76920791e+00, -2.74815493e-04],\n",
       "         [-2.74815493e-04,  1.76920791e+00]])},\n",
       " '80': {'D': array([[ 0.84076188, -0.00189867],\n",
       "         [-0.00189867,  0.84076188]]),\n",
       "  'P': array([[ 1.76634945e+00, -2.18733941e-04],\n",
       "         [-2.18733941e-04,  1.76634945e+00]])},\n",
       " '100': {'D': array([[ 0.84003438, -0.00153808],\n",
       "         [-0.00153808,  0.84003438]]),\n",
       "  'P': array([[ 1.76447766e+00, -1.81137383e-04],\n",
       "         [-1.81137383e-04,  1.76447766e+00]])},\n",
       " '120': {'D': array([[ 0.83881869, -0.00132252],\n",
       "         [-0.00132252,  0.83881869]]),\n",
       "  'P': array([[ 1.76186414e+00, -1.60636010e-04],\n",
       "         [-1.60636010e-04,  1.76186414e+00]])},\n",
       " '140': {'D': array([[ 0.83841372, -0.00113898],\n",
       "         [-0.00113898,  0.83841372]]),\n",
       "  'P': array([[ 1.76076639e+00, -1.39936921e-04],\n",
       "         [-1.39936921e-04,  1.76076639e+00]])},\n",
       " '160': {'D': array([[ 0.83810408, -0.00099993],\n",
       "         [-0.00099993,  0.83810408]]),\n",
       "  'P': array([[ 1.75999371e+00, -1.23697444e-04],\n",
       "         [-1.23697444e-04,  1.75999371e+00]])},\n",
       " '180': {'D': array([[ 0.83787854, -0.00088994],\n",
       "         [-0.00088994,  0.83787854]]),\n",
       "  'P': array([[ 1.75942399e+00, -1.10689059e-04],\n",
       "         [-1.10689059e-04,  1.75942399e+00]])},\n",
       " '200': {'D': array([[ 8.37502335e-01, -8.12840711e-04],\n",
       "         [-8.12840711e-04,  8.37502335e-01]]),\n",
       "  'P': array([[ 1.75874921e+00, -1.01600313e-04],\n",
       "         [-1.01600313e-04,  1.75874921e+00]])}}"
      ]
     },
     "execution_count": 90,
     "metadata": {},
     "output_type": "execute_result"
    }
   ],
   "source": [
    "tensors"
   ]
  },
  {
   "cell_type": "code",
   "execution_count": 91,
   "metadata": {
    "collapsed": true
   },
   "outputs": [],
   "source": [
    "d11 = []\n",
    "d12 = []\n",
    "d21 = []\n",
    "d22 = []\n",
    "p11 = []\n",
    "p12 = []\n",
    "p21 = []\n",
    "p22 = []\n",
    "\n",
    "for res in res_list:\n",
    "    D = tensors[str(res)]['D']\n",
    "    P = tensors[str(res)]['P']\n",
    "    d11.append(D[0,0])\n",
    "    d12.append(D[0,1])\n",
    "    d21.append(D[1,0])\n",
    "    d22.append(D[1,1])\n",
    "    p11.append(P[0,0])\n",
    "    p12.append(P[0,1])\n",
    "    p21.append(P[1,0])\n",
    "    p22.append(P[1,1])"
   ]
  },
  {
   "cell_type": "code",
   "execution_count": 92,
   "metadata": {},
   "outputs": [
    {
     "name": "stderr",
     "output_type": "stream",
     "text": [
      "/home/eberhardt/anaconda2/envs/fenicsenv/lib/python3.6/site-packages/matplotlib/font_manager.py:1241: UserWarning: findfont: Font family ['times'] not found. Falling back to DejaVu Sans.\n",
      "  (prop.get_family(), self.defaultFamily[fontext]))\n",
      "/home/eberhardt/anaconda2/envs/fenicsenv/lib/python3.6/site-packages/matplotlib/font_manager.py:1241: UserWarning: findfont: Font family ['times'] not found. Falling back to DejaVu Sans.\n",
      "  (prop.get_family(), self.defaultFamily[fontext]))\n"
     ]
    },
    {
     "data": {
      "image/png": "[encoded data removed]",
      "text/plain": [
       "<Figure size 900x300 with 2 Axes>"
      ]
     },
     "metadata": {
      "needs_background": "light"
     },
     "output_type": "display_data"
    }
   ],
   "source": [
    "from matplotlib import pyplot as plt\n",
    "# text rendering with LaTex\n",
    "plt.rc('text', usetex=True)\n",
    "plt.rc('font', family='times')\n",
    "\n",
    "fig = plt.figure(figsize=(6.,  2.), dpi=150)\n",
    "pos1 = [0.1, 0.1, 0.3, 0.75]\n",
    "pos2 = [0.6, 0.1, 0.3, 0.75]\n",
    "\n",
    "\n",
    "sub1 = fig.add_axes(pos1)\n",
    "sub1.spines['top'].set_visible(False)\n",
    "sub1.spines['right'].set_visible(False)\n",
    "sub1.set_xlabel('\\# cells')\n",
    "sub1.set_ylabel('coefficient')\n",
    "sub1.plot(res_list, d11, 'x', label='$D_{11}$')\n",
    "#sub1.plot([20,200], [0.3833, 0.3833], '--', color='black', label='Auriault \\&\\n Lewandowska 1996\\n (144 cells)')\n",
    "#sub1.plot(res_list, d12, 'x', label='$D_{12}$')\n",
    "sub1.plot(res_list, d22, 'x', label='$D_{22}$')\n",
    "#sub1.plot(res_list, d21, 'x', label='$D_{21}$')\n",
    "\n",
    "#sub1.set_xticklabels([str(np.square(res_list[0])*2), '', '', str(np.square(res_list[3])*2),\n",
    "#                      '', '', str(np.square(res_list[6])*2), '', '', str(np.square(res_list[9])*2)])\n",
    "sub1.set_xticklabels([str(np.square(res_list[0])*2), '', str(np.square(res_list[2])*2), '', str(np.square(res_list[4])*2)])\n",
    "\n",
    "sub1.legend()\n",
    "sub1.set_title('Diffusion')\n",
    "\n",
    "sub2 = fig.add_axes(pos2)\n",
    "sub2.spines['top'].set_visible(False)\n",
    "sub2.spines['right'].set_visible(False)\n",
    "sub2.set_xlabel('\\# cells')\n",
    "sub2.set_ylabel('coefficient')\n",
    "sub2.plot(res_list, p11, 'x', label='$E_{11}$')\n",
    "#sub2.plot([20, 200], [1.5, 1.5], '--', color='black', label='theory')\n",
    "#sub2.plot([20, 200], [1.333, 1.333], '--', color='black')\n",
    "#sub2.plot(res_list, p12, 'x', label='$E_{12}$')\n",
    "sub2.plot(res_list, p22, 'x', label='$E_{22}$')\n",
    "#sub2.plot(res_list, p21, 'x', label='$E_{21}$')\n",
    "\n",
    "sub2.set_xticks(res_list)\n",
    "#sub2.set_xticklabels([str(np.square(res_list[0])*2), '', '', str(np.square(res_list[3])*2),\n",
    "#                      '', '', str(np.square(res_list[6])*2), '', '', str(np.square(res_list[9])*2)])\n",
    "sub2.set_xticklabels([str(np.square(res_list[0])*2), '', str(np.square(res_list[2])*2), '', str(np.square(res_list[4])*2)])\n",
    "\n",
    "sub2.legend()\n",
    "sub2.set_title('Permittivity')\n",
    "\n",
    "plt.show()"
   ]
  },
  {
   "cell_type": "code",
   "execution_count": 38,
   "metadata": {},
   "outputs": [
    {
     "name": "stdout",
     "output_type": "stream",
     "text": [
      "[[8.87598500e-01 3.66956542e-17]\n",
      " [2.37888587e-17 4.03967957e-01]]\n"
     ]
    }
   ],
   "source": [
    "print(tensors[str(res_list[-1])]['D'])"
   ]
  },
  {
   "cell_type": "code",
   "execution_count": 39,
   "metadata": {},
   "outputs": [
    {
     "name": "stdout",
     "output_type": "stream",
     "text": [
      "[[1.65107543e+00 1.05395786e-05]\n",
      " [1.39472679e-05 1.56197337e+00]]\n"
     ]
    }
   ],
   "source": [
    "print(tensors[str(res_list[-1])]['P'])"
   ]
  },
  {
   "cell_type": "code",
   "execution_count": 40,
   "metadata": {
    "collapsed": true
   },
   "outputs": [],
   "source": [
    "tensors.update({'eps_l': eps_l, 'eps_s': eps_s, 'pourosity':pourosity, 'res_list': res_list})"
   ]
  },
  {
   "cell_type": "code",
   "execution_count": 41,
   "metadata": {
    "collapsed": true
   },
   "outputs": [],
   "source": [
    "import pickle\n",
    "pickle.dump(tensors, open(folder+'tensors_vs_res_'+str(eps_l)+'_'+str(eps_s)+'.pcl', 'wb'))"
   ]
  },
  {
   "cell_type": "code",
   "execution_count": 66,
   "metadata": {},
   "outputs": [
    {
     "data": {
      "text/plain": [
       "'./../extended_box_3d/tensors_vs_res_2.0_1.0.obj'"
      ]
     },
     "execution_count": 66,
     "metadata": {},
     "output_type": "execute_result"
    }
   ],
   "source": [
    "folder+'tensors_vs_res_'+str(eps_l)+'_'+str(eps_s)+'.obj'"
   ]
  }
 ],
 "metadata": {
  "kernelspec": {
   "display_name": "Python 3 (ipykernel)",
   "language": "python",
   "name": "python3"
  },
  "language_info": {
   "codemirror_mode": {
    "name": "ipython",
    "version": 3
   },
   "file_extension": ".py",
   "mimetype": "text/x-python",
   "name": "python",
   "nbconvert_exporter": "python",
   "pygments_lexer": "ipython3",
   "version": "3.9.7"
  }
 },
 "nbformat": 4,
 "nbformat_minor": 2
}
