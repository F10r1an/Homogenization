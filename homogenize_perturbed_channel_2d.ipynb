{
 "cells": [
  {
   "cell_type": "code",
   "execution_count": 109,
   "metadata": {},
   "outputs": [],
   "source": [
    "from fenics import *\n",
    "import numpy as np\n",
    "import matplotlib.pyplot as plt\n",
    "\n",
    "import PeriodicBoundary as pb\n",
    "import Homogenization as hm\n",
    "\n",
    "#from GeometryBase import GeometryBase \n",
    "#gm = 'box_in__box_2d'\n",
    "#gm = 'diagonal_box_in_box_2d'\n",
    "#gm = 'straight_channel_2d'\n",
    "#gm = 'diagonal_channels_2d'\n",
    "#gm = 'perturbed_channel_2d'\n",
    "gm = 'vertical_filaments_2d'\n",
    "#gm = 'circle_in_a_box_2d'\n",
    "#gm = 'four_boxes_in_a_box_2d'\n",
    "#gm = 'crossing_channels_2d'\n",
    "\n",
    "#gm = 'extended_box_3d'\n",
    "#gm = 'crossing_filaments_3d'\n",
    "#gm = 'box_in_a_box_3d'\n",
    "#gm = 'actin_cytosceleton_3d'\n",
    "\n",
    "if gm == 'box_in__box_2d':\n",
    "    import GeometryBoxInABox2D as Geometry\n",
    "elif gm == 'four_boxes_in_a_box_2d':\n",
    "    import GeometryFourBoxesInABox2D as Geometry\n",
    "elif gm == 'straight_channel_2d':\n",
    "    import GeometryStraightChannel2D as Geometry\n",
    "elif gm == 'perturbed_channel_2d':\n",
    "    import GeometryPerturbedChannel2D as Geometry\n",
    "elif gm == 'vertical_filaments_2d':\n",
    "    import GeometryVerticalFilaments2D as Geometry\n",
    "elif gm == 'diagonal_channels_2d':\n",
    "    import GeometryDiagonalChannels2D as Geometry\n",
    "elif gm == 'crossing_channels_2d':\n",
    "    import GeometryCrossingChannels2D as Geometry\n",
    "elif gm == 'diagonal_box_in_box_2d':\n",
    "    import GeometryDiagonalBoxInABox2D as Geometry\n",
    "elif gm == 'circle_in_a_box_2d':\n",
    "    import GeometryCircleInABox2D as Geometry\n",
    "\n",
    "# 3D meshes\n",
    "elif gm == 'extended_box_3d':\n",
    "    import GeometryExtendedBox3D as Geometry\n",
    "elif gm == 'crossing_filaments_3d':\n",
    "    import GeometryCrossingFilaments3D as Geometry\n",
    "elif gm == 'box_in_a_box_3d':\n",
    "    import GeometryBoxInABox3D as Geometry\n",
    "elif gm == 'actin_cytosceleton_3d':\n",
    "    import GeometryActinCytosceleton as Geometry"
   ]
  },
  {
   "cell_type": "code",
   "execution_count": 114,
   "metadata": {},
   "outputs": [
    {
     "data": {
      "text/plain": [
       "<module 'Homogenization' from '/home/eberhardt/Spine/Git_code/homogenization/code/Homogenization.py'>"
      ]
     },
     "execution_count": 114,
     "metadata": {},
     "output_type": "execute_result"
    }
   ],
   "source": [
    "import importlib\n",
    "importlib.reload(Geometry)\n",
    "importlib.reload(hm)"
   ]
  },
  {
   "cell_type": "code",
   "execution_count": 119,
   "metadata": {},
   "outputs": [
    {
     "name": "stdout",
     "output_type": "stream",
     "text": [
      "./../vertical_filaments_2d/\n"
     ]
    }
   ],
   "source": [
    "geom = Geometry.Geometry(2., 1., resolution=72, ds=36., sc=17.)\n",
    "print(geom.get_folder())"
   ]
  },
  {
   "cell_type": "code",
   "execution_count": 118,
   "metadata": {},
   "outputs": [
    {
     "name": "stdout",
     "output_type": "stream",
     "text": [
      "Folder:  ./../vertical_filaments_2d/\n",
      "number of cells in full mesh:  10368\n",
      "number of cells in liquid mesh:  848\n",
      "volume of liquid mesh:  106.0\n",
      "volume of full mesh:  1296.0\n",
      "volume of solid:  1190.0\n",
      "pourosity:  0.08179012345679013\n"
     ]
    },
    {
     "data": {
      "image/png": "[encoded data removed]",
      "text/plain": [
       "<Figure size 432x288 with 1 Axes>"
      ]
     },
     "metadata": {
      "needs_background": "light"
     },
     "output_type": "display_data"
    }
   ],
   "source": [
    "\n",
    "mesh = geom.get_mesh()\n",
    "liquid_mesh = geom.get_liquid_mesh()\n",
    "\n",
    "if geom.geometric_dimension() == 2:\n",
    "    fig = plt.figure()\n",
    "    ax = fig.add_subplot(1,1,1)\n",
    "    materials = geom.get_materials()\n",
    "    plot(materials)\n",
    "else:\n",
    "    pass\n",
    "folder = geom.get_folder()\n",
    "print('Folder: ',folder)\n",
    "print('number of cells in full mesh: ',mesh.num_cells())\n",
    "print('number of cells in liquid mesh: ',liquid_mesh.num_cells())\n",
    "print('volume of liquid mesh: ', geom.get_liquid_mesh_volume())\n",
    "print('volume of full mesh: ',geom.get_mesh_volume())\n",
    "print('volume of solid: ',geom.get_mesh_volume()-geom.get_liquid_mesh_volume())\n",
    "pourosity = geom.get_liquid_mesh_volume()/geom.get_mesh_volume()\n",
    "print('pourosity: ',geom.get_liquid_mesh_volume()/geom.get_mesh_volume())"
   ]
  },
  {
   "cell_type": "code",
   "execution_count": 67,
   "metadata": {},
   "outputs": [],
   "source": [
    "geom.save_materials()\n",
    "geom.save_boundaries()\n",
    "geom.save_permittivity()\n",
    "# geom.test_grid_periodicity('x_1')"
   ]
  },
  {
   "cell_type": "code",
   "execution_count": 103,
   "metadata": {},
   "outputs": [],
   "source": [
    "xi_phi = hm.reference_cell_solver_potential(geom)\n",
    "\n",
    "folder = geom.get_folder()\n",
    "\n",
    "# Save solution in VTK format\n",
    "file = File(folder + \"xi_phi_1.pvd\")\n",
    "file << xi_phi[0]\n",
    "file = File(folder + \"xi_phi_2.pvd\")\n",
    "file << xi_phi[1]\n",
    "if mesh.geometric_dimension() == 3:\n",
    "    file = File(folder + \"xi_phi_3.pvd\")\n",
    "    file << xi_phi[2]"
   ]
  },
  {
   "cell_type": "code",
   "execution_count": 104,
   "metadata": {},
   "outputs": [],
   "source": [
    "xi_c = hm.reference_cell_solver_diffusion(geom)\n",
    "\n",
    "folder = geom.get_folder()\n",
    "\n",
    "# Save solution in VTK format\n",
    "file = File(folder + \"xi_c_1.pvd\")\n",
    "file << xi_c[0]\n",
    "file = File(folder + \"xi_c_2.pvd\")\n",
    "file << xi_c[1]\n",
    "if mesh.geometric_dimension() == 3:\n",
    "    file = File(folder + \"xi_c_3.pvd\")\n",
    "    file << xi_c[2]"
   ]
  },
  {
   "cell_type": "code",
   "execution_count": 105,
   "metadata": {
    "scrolled": true
   },
   "outputs": [
    {
     "name": "stdout",
     "output_type": "stream",
     "text": [
      "Computing tensor component i,j =  0 0\n",
      "Computing tensor component i,j =  0 1\n",
      "Computing tensor component i,j =  1 0\n",
      "Computing tensor component i,j =  1 1\n",
      "[[1.         0.        ]\n",
      " [0.         0.01388889]]\n"
     ]
    }
   ],
   "source": [
    "D = 1.\n",
    "pourosity = 1.\n",
    "\n",
    "diffusion_tensor = D * pourosity * hm.diffusion_tensor(xi_c, geom)\n",
    "print(diffusion_tensor)"
   ]
  },
  {
   "cell_type": "code",
   "execution_count": 106,
   "metadata": {},
   "outputs": [
    {
     "name": "stdout",
     "output_type": "stream",
     "text": [
      "Computing tensor component i,j =  0 0\n",
      "Computing tensor component i,j =  0 1\n",
      "Computing tensor component i,j =  1 0\n",
      "Computing tensor component i,j =  1 1\n",
      "[[ 1.50000000e+00 -8.62711961e-23]\n",
      " [ 4.14235849e-06  1.33466852e+00]]\n"
     ]
    }
   ],
   "source": [
    "permittivity_tensor = hm.permittivity_tensor(xi_phi, geom)\n",
    "print(permittivity_tensor)"
   ]
  },
  {
   "cell_type": "code",
   "execution_count": 107,
   "metadata": {},
   "outputs": [
    {
     "name": "stdout",
     "output_type": "stream",
     "text": [
      "Computing mobility tensor component i,j =  0 0\n",
      "Computing mobility tensor component i,j =  0 1\n",
      "Computing mobility tensor component i,j =  1 0\n",
      "Computing mobility tensor component i,j =  1 1\n",
      "[[5.00000000e-01 0.00000000e+00]\n",
      " [4.14235849e-06 3.34668518e-01]]\n"
     ]
    }
   ],
   "source": [
    "importlib.reload(hm)\n",
    "mobility_tensor = hm.mobility_tensor(xi_phi, geom)\n",
    "print(mobility_tensor)"
   ]
  },
  {
   "cell_type": "code",
   "execution_count": 63,
   "metadata": {},
   "outputs": [
    {
     "data": {
      "text/plain": [
       "<matplotlib.tri.tricontour.TriContourSet at 0x7f8d5f591320>"
      ]
     },
     "execution_count": 63,
     "metadata": {},
     "output_type": "execute_result"
    },
    {
     "data": {
      "image/png": "[encoded data removed]",
      "text/plain": [
       "<Figure size 432x288 with 1 Axes>"
      ]
     },
     "metadata": {
      "needs_background": "light"
     },
     "output_type": "display_data"
    }
   ],
   "source": [
    "plot(xi_phi[0])"
   ]
  },
  {
   "cell_type": "code",
   "execution_count": 64,
   "metadata": {},
   "outputs": [
    {
     "data": {
      "text/plain": [
       "<matplotlib.tri.tricontour.TriContourSet at 0x7f8d5f515ac8>"
      ]
     },
     "execution_count": 64,
     "metadata": {},
     "output_type": "execute_result"
    },
    {
     "data": {
      "image/png": "[encoded data removed]",
      "text/plain": [
       "<Figure size 432x288 with 1 Axes>"
      ]
     },
     "metadata": {
      "needs_background": "light"
     },
     "output_type": "display_data"
    }
   ],
   "source": [
    "plot(xi_phi[1])"
   ]
  },
  {
   "cell_type": "code",
   "execution_count": 65,
   "metadata": {},
   "outputs": [
    {
     "data": {
      "text/plain": [
       "<matplotlib.tri.tricontour.TriContourSet at 0x7f8d5f46f780>"
      ]
     },
     "execution_count": 65,
     "metadata": {},
     "output_type": "execute_result"
    },
    {
     "data": {
      "image/png": "[encoded data removed]",
      "text/plain": [
       "<Figure size 432x288 with 1 Axes>"
      ]
     },
     "metadata": {
      "needs_background": "light"
     },
     "output_type": "display_data"
    }
   ],
   "source": [
    "plot(xi_c[0])"
   ]
  },
  {
   "cell_type": "code",
   "execution_count": 27,
   "metadata": {},
   "outputs": [
    {
     "data": {
      "text/plain": [
       "<matplotlib.tri.tricontour.TriContourSet at 0x7f8d600345f8>"
      ]
     },
     "execution_count": 27,
     "metadata": {},
     "output_type": "execute_result"
    },
    {
     "data": {
      "image/png": "[encoded data removed]",
      "text/plain": [
       "<Figure size 432x288 with 1 Axes>"
      ]
     },
     "metadata": {
      "needs_background": "light"
     },
     "output_type": "display_data"
    }
   ],
   "source": [
    "plot(xi_c[1])"
   ]
  }
 ],
 "metadata": {
  "kernelspec": {
   "display_name": "Python 3 (ipykernel)",
   "language": "python",
   "name": "python3"
  },
  "language_info": {
   "codemirror_mode": {
    "name": "ipython",
    "version": 3
   },
   "file_extension": ".py",
   "mimetype": "text/x-python",
   "name": "python",
   "nbconvert_exporter": "python",
   "pygments_lexer": "ipython3",
   "version": "3.9.7"
  }
 },
 "nbformat": 4,
 "nbformat_minor": 2
}
